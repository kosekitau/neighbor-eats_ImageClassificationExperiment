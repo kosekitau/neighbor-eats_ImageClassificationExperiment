{
  "nbformat": 4,
  "nbformat_minor": 0,
  "metadata": {
    "colab": {
      "name": "preprocessing_exdata.ipynb",
      "provenance": []
    },
    "kernelspec": {
      "name": "python3",
      "display_name": "Python 3"
    },
    "language_info": {
      "name": "python"
    }
  },
  "cells": [
    {
      "cell_type": "code",
      "execution_count": 1,
      "metadata": {
        "id": "o56HplDYHywD"
      },
      "outputs": [],
      "source": [
        "import os\n",
        "import numpy as np\n",
        "import pandas as pd\n",
        "import matplotlib.pyplot as plt\n",
        "import cv2\n",
        "import random"
      ]
    },
    {
      "cell_type": "code",
      "source": [
        "directory_train = \"/content/drive/MyDrive/projects/neighbor/ex_testdata/\"\n",
        "categories_train = [\"food\", \"non_food\"]\n",
        "size = 64\n",
        "X_train = []\n",
        "y_train = []\n",
        "data_train = []\n",
        "i = 0\n",
        "for categ in categories_train:\n",
        "  label = categories_train.index(categ)\n",
        "  folder = os.path.join(directory_train, categ)\n",
        "  for image in os.listdir(folder):\n",
        "    i+=1\n",
        "    print(i)\n",
        "    image_path = os.path.join(folder, image)\n",
        "    image_array = cv2.imread(image_path)\n",
        "\n",
        "    if type(image_array) is np.ndarray:\n",
        "      if image_array.size == 0:\n",
        "        continue\n",
        "    if image_array is None:\n",
        "      continue\n",
        "    image_array = cv2.resize(image_array, (size, size))\n",
        "    data_train.append([image_array, label])\n",
        "\n",
        "random.shuffle(data_train)\n",
        "\n",
        "for feature,label in data_train:\n",
        "  X_train.append(feature)\n",
        "  y_train.append(label)\n",
        "\n",
        "X_train = np.array(X_train)\n",
        "y_train = np.array(y_train)\n",
        "\n",
        "print(len(data_train))\n",
        "print(X_train.shape)\n",
        "print(y_train.shape)"
      ],
      "metadata": {
        "colab": {
          "base_uri": "https://localhost:8080/"
        },
        "id": "UBENTT8YIpT2",
        "outputId": "559aa067-bd05-4b86-d46f-7b0d60e6ed6d"
      },
      "execution_count": 3,
      "outputs": [
        {
          "output_type": "stream",
          "name": "stdout",
          "text": [
            "1\n",
            "2\n",
            "3\n",
            "4\n",
            "5\n",
            "6\n",
            "7\n",
            "8\n",
            "9\n",
            "10\n",
            "11\n",
            "12\n",
            "13\n",
            "14\n",
            "15\n",
            "15\n",
            "(15, 64, 64, 3)\n",
            "(15,)\n"
          ]
        }
      ]
    },
    {
      "cell_type": "code",
      "source": [
        "import h5py\n",
        "\n",
        "filepath = '/content/drive/MyDrive/projects/neighbor/data/'\n",
        "\n",
        "f1 = h5py.File(filepath+\"ex_testdatasets.hdf5\", \"w\")\n",
        "\n",
        "train_set_X = f1.create_dataset(\"train_set_X\", (len(X_train), 64, 64, 3), data=X_train)\n",
        "train_set_y = f1.create_dataset(\"train_set_y\", (len(X_train),), data=y_train)\n",
        "\n",
        "f1.close()"
      ],
      "metadata": {
        "id": "d9F__TJCJS1a"
      },
      "execution_count": 5,
      "outputs": []
    },
    {
      "cell_type": "code",
      "source": [
        ""
      ],
      "metadata": {
        "id": "D-MpGHLEKAiF"
      },
      "execution_count": 6,
      "outputs": []
    },
    {
      "cell_type": "code",
      "source": [
        ""
      ],
      "metadata": {
        "id": "jNwe20nYLpkE"
      },
      "execution_count": null,
      "outputs": []
    }
  ]
}