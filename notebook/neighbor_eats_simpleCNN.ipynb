{
  "nbformat": 4,
  "nbformat_minor": 0,
  "metadata": {
    "colab": {
      "name": "neighbor-eats_simpleCNN.ipynb",
      "provenance": []
    },
    "kernelspec": {
      "name": "python3",
      "display_name": "Python 3"
    },
    "language_info": {
      "name": "python"
    },
    "accelerator": "GPU"
  },
  "cells": [
    {
      "cell_type": "code",
      "execution_count": 1,
      "metadata": {
        "id": "pPDlPzQZUibe"
      },
      "outputs": [],
      "source": [
        "import numpy as np\n",
        "import matplotlib.pyplot as plt\n",
        "import  torch \n",
        "from torch import nn, optim\n",
        "import torch.nn.functional as F\n",
        "from torch.utils.data import DataLoader, Dataset\n",
        "import h5py"
      ]
    },
    {
      "cell_type": "code",
      "source": [
        "all_dataset = h5py.File(\"/content/drive/MyDrive/projects/neighbor/data/datasets.hdf5\", \"r\")\n",
        "\n",
        "X_train = np.array(all_dataset[\"train_set_X\"])\n",
        "y_train = np.array(all_dataset[\"train_set_y\"])\n",
        "\n",
        "X_val = np.array(all_dataset[\"val_set_X\"])\n",
        "y_val = np.array(all_dataset[\"val_set_y\"])\n",
        "\n",
        "X_test = np.array(all_dataset[\"eval_set_X\"])\n",
        "y_test = np.array(all_dataset[\"eval_set_y\"])"
      ],
      "metadata": {
        "id": "M2VQbPqHh6NW"
      },
      "execution_count": 2,
      "outputs": []
    },
    {
      "cell_type": "code",
      "source": [
        "print(X_train.shape, X_val.shape, X_test.shape)"
      ],
      "metadata": {
        "colab": {
          "base_uri": "https://localhost:8080/"
        },
        "id": "39G1zSVQtjgt",
        "outputId": "af9e0f95-c2da-48cf-dfc1-ea04209c629e"
      },
      "execution_count": 3,
      "outputs": [
        {
          "output_type": "stream",
          "name": "stdout",
          "text": [
            "(3000, 64, 64, 3) (1000, 64, 64, 3) (1000, 64, 64, 3)\n"
          ]
        }
      ]
    },
    {
      "cell_type": "code",
      "source": [
        "# 255値で正規化\n",
        "X_train_norm = X_train / 255.0\n",
        "X_val_norm = X_val / 255.0\n",
        "X_test_norm = X_test / 255.0"
      ],
      "metadata": {
        "id": "cz16fkVeirHZ"
      },
      "execution_count": 8,
      "outputs": []
    },
    {
      "cell_type": "code",
      "source": [
        "class ImageDataset(Dataset):\n",
        "    def __init__(self, x, y):\n",
        "        super().__init__()\n",
        "        \n",
        "        self.x = torch.Tensor(x).permute(0,3,1,2).float() #NCHW -> NHWC\n",
        "        self.y = torch.Tensor(y).type(torch.LongTensor)\n",
        "               \n",
        "    def __len__(self):\n",
        "        return len(self.x)\n",
        "    \n",
        "    def __getitem__(self, index):\n",
        "        image = self.x[index] / 255.0\n",
        "        target = self.y[index]\n",
        "        \n",
        "        return image, target"
      ],
      "metadata": {
        "id": "V8Gswl5YlYSO"
      },
      "execution_count": 4,
      "outputs": []
    },
    {
      "cell_type": "code",
      "source": [
        "BATCH_SIZE = 32\n",
        "\n",
        "train_dataloader = DataLoader(ImageDataset(X_train, y_train), batch_size=BATCH_SIZE, shuffle=True, drop_last = True)\n",
        "val_dataloader = DataLoader(ImageDataset(X_val, y_val), batch_size=BATCH_SIZE, shuffle=True, drop_last = True)\n",
        "test_dataloader = DataLoader(ImageDataset(X_test, y_test), batch_size=BATCH_SIZE, shuffle=True, drop_last = True)\n",
        "\n",
        "dataloaders_dict = {'train': train_dataloader, 'val': val_dataloader}"
      ],
      "metadata": {
        "id": "WLHgfXChCLq0"
      },
      "execution_count": 6,
      "outputs": []
    },
    {
      "cell_type": "code",
      "source": [
        "# 入力画像は(64, 64)の3チャンネル\n",
        "model = nn.Sequential(\n",
        "    nn.ZeroPad2d(padding=3),\n",
        "    #入力チャンネル数, 出力チャンネル数,(フィルタの数) フィルタ(カーネル)の長さ\n",
        "    nn.Conv2d(3, 64, 11, stride=1), # フィルタ64枚で、カーネルサイズは11にしたい\n",
        "    nn.BatchNorm2d(64), # 入力チャンネル数\n",
        "    nn.ReLU(),\n",
        "    nn.MaxPool2d(2, stride=2),\n",
        "\n",
        "    nn.Conv2d(64, 64, 2, stride=1),\n",
        "    nn.BatchNorm2d(64),\n",
        "    nn.ReLU(),\n",
        "    nn.MaxPool2d(2, stride=2),\n",
        "\n",
        "    nn.Conv2d(64, 64, 2, stride=1),\n",
        "    nn.BatchNorm2d(64),\n",
        "    nn.ReLU(),\n",
        "    nn.MaxPool2d(2, stride=2),\n",
        "\n",
        "    nn.Flatten(),\n",
        "    nn.Linear(2304, 2)\n",
        ")"
      ],
      "metadata": {
        "id": "vclfe7NiCkOp"
      },
      "execution_count": 7,
      "outputs": []
    },
    {
      "cell_type": "code",
      "source": [
        "n_epoch = 10\n",
        "lr = 2e-4\n",
        "\n",
        "opt = optim.Adam(model.parameters(), lr=lr)\n",
        "criterion = nn.CrossEntropyLoss()"
      ],
      "metadata": {
        "id": "mkTcbamNHqU8"
      },
      "execution_count": 8,
      "outputs": []
    },
    {
      "cell_type": "code",
      "source": [
        "def train_model(model, criterion, optimizer, num_epochs=10):\n",
        "    \n",
        "    device = torch.device('cuda:0' if torch.cuda.is_available() else 'cpu')\n",
        "    print(device)\n",
        "    model.to(device)\n",
        "\n",
        "    for epoch in range(num_epochs):\n",
        "        print('Epoch {}/{}'.format(epoch, num_epochs - 1))\n",
        "        print('-' * 10)\n",
        "\n",
        "        # Each epoch has a training and validation phase\n",
        "        for phase in ['train', 'val']:\n",
        "            if phase == 'train':\n",
        "                model.train()  # Set model to training mode\n",
        "            else:\n",
        "                model.eval()   # Set model to evaluate mode\n",
        "\n",
        "            running_loss = 0.0 # epochの損失和\n",
        "            running_corrects = 0 # epochの正解数\n",
        "\n",
        "            for inputs, labels in dataloaders_dict[phase]:\n",
        "                inputs = inputs.to(device)\n",
        "                labels = labels.to(device)\n",
        "\n",
        "                # zero the parameter gradients\n",
        "                optimizer.zero_grad()\n",
        "\n",
        "                #学習フェーズならパラメータ更新\n",
        "                with torch.set_grad_enabled(phase == 'train'):\n",
        "                    outputs = model(inputs)\n",
        "                    _, preds = torch.max(outputs, 1)\n",
        "                    loss = criterion(outputs, labels)\n",
        "\n",
        "                    if phase == 'train':\n",
        "                        loss.backward()\n",
        "                        optimizer.step()\n",
        "\n",
        "                running_loss += loss.item() * inputs.size(0)\n",
        "                running_corrects += torch.sum(preds == labels.data)\n",
        "            \n",
        "            epoch_loss = running_loss / len(dataloaders_dict[phase].dataset)\n",
        "            epoch_acc = running_corrects.double() / len(dataloaders_dict[phase].dataset)\n",
        "\n",
        "            print('{} Loss: {:.4f} Acc: {:.4f}'.format(\n",
        "                phase, epoch_loss, epoch_acc))\n",
        "\n",
        "    return model"
      ],
      "metadata": {
        "id": "sY7hF2yZMno3"
      },
      "execution_count": 9,
      "outputs": []
    },
    {
      "cell_type": "code",
      "source": [
        "model = train_model(model, criterion, opt, n_epoch)"
      ],
      "metadata": {
        "colab": {
          "base_uri": "https://localhost:8080/"
        },
        "id": "UMgd7dioMt43",
        "outputId": "4402fc5a-6b7d-4dbe-b7ab-ecaa73251908"
      },
      "execution_count": 10,
      "outputs": [
        {
          "output_type": "stream",
          "name": "stdout",
          "text": [
            "cuda:0\n",
            "Epoch 0/9\n",
            "----------\n",
            "train Loss: 0.4319 Acc: 0.7893\n",
            "val Loss: 0.4988 Acc: 0.7530\n",
            "Epoch 1/9\n",
            "----------\n",
            "train Loss: 0.3021 Acc: 0.8607\n",
            "val Loss: 0.4825 Acc: 0.7870\n",
            "Epoch 2/9\n",
            "----------\n",
            "train Loss: 0.2396 Acc: 0.8940\n",
            "val Loss: 0.2955 Acc: 0.8750\n",
            "Epoch 3/9\n",
            "----------\n",
            "train Loss: 0.2182 Acc: 0.9033\n",
            "val Loss: 0.3056 Acc: 0.8680\n",
            "Epoch 4/9\n",
            "----------\n",
            "train Loss: 0.1697 Acc: 0.9317\n",
            "val Loss: 0.3524 Acc: 0.8330\n",
            "Epoch 5/9\n",
            "----------\n",
            "train Loss: 0.1448 Acc: 0.9417\n",
            "val Loss: 0.4914 Acc: 0.8200\n",
            "Epoch 6/9\n",
            "----------\n",
            "train Loss: 0.1271 Acc: 0.9523\n",
            "val Loss: 0.3084 Acc: 0.8810\n",
            "Epoch 7/9\n",
            "----------\n",
            "train Loss: 0.1101 Acc: 0.9547\n",
            "val Loss: 0.3826 Acc: 0.8440\n",
            "Epoch 8/9\n",
            "----------\n",
            "train Loss: 0.0852 Acc: 0.9687\n",
            "val Loss: 0.4491 Acc: 0.8400\n",
            "Epoch 9/9\n",
            "----------\n",
            "train Loss: 0.0701 Acc: 0.9770\n",
            "val Loss: 0.3156 Acc: 0.8720\n"
          ]
        }
      ]
    },
    {
      "cell_type": "code",
      "source": [
        "device = torch.device('cuda:0' if torch.cuda.is_available() else 'cpu')\n",
        "print(device)\n",
        "model.eval()\n",
        "model.to(device)\n",
        "\n",
        "epoch_corrects = 0\n",
        "predictions = []\n",
        "targets = []\n",
        "for inputs, labels in (test_dataloader):\n",
        "  inputs = inputs.to(device)\n",
        "  labels = labels.to(device)\n",
        "\n",
        "  with torch.set_grad_enabled(False):\n",
        "     outputs = model(inputs)\n",
        "     _, preds = torch.max(outputs, 1)\n",
        "     predictions.extend(preds.to('cpu').detach().numpy().copy())\n",
        "     targets.extend(labels.to('cpu').detach().numpy().copy())\n",
        "     epoch_corrects += torch.sum(preds == labels.data)\n",
        "\n",
        "epoch_acc = epoch_corrects.double() / len(test_dataloader.dataset)\n",
        "print('Acc: {:.4f}'.format(epoch_acc))"
      ],
      "metadata": {
        "colab": {
          "base_uri": "https://localhost:8080/"
        },
        "id": "Sagy87P66v1k",
        "outputId": "f52f6ee2-3980-4ddb-e1d9-491754d1aad2"
      },
      "execution_count": 23,
      "outputs": [
        {
          "output_type": "stream",
          "name": "stdout",
          "text": [
            "cuda:0\n",
            "Acc: 0.8490\n"
          ]
        }
      ]
    },
    {
      "cell_type": "code",
      "source": [
        "from sklearn.metrics import precision_score, recall_score\n",
        "from sklearn.metrics import confusion_matrix\n",
        "import matplotlib.pyplot as plt\n",
        "\n",
        "confmat = confusion_matrix(y_true=targets, y_pred=predictions)\n",
        "fig, ax = plt.subplots(figsize=(2.5, 2.5))\n",
        "ax.matshow(confmat, cmap=plt.cm.Blues, alpha=0.3)\n",
        "\n",
        "for i in range(confmat.shape[0]):\n",
        "  for j in range(confmat.shape[1]):\n",
        "    ax.text(x=j, y=i, s=confmat[i, j], va='center', ha='center')\n",
        "\n",
        "plt.xlabel('predicted label')\n",
        "plt.ylabel('true label')\n",
        "plt.tight_layout()\n",
        "plt.show()\n",
        "\n",
        "precision = precision_score(targets, predictions)\n",
        "recall = recall_score(targets, predictions)\n",
        "print(f'Precision：{precision}.')\n",
        "print(f'Recall：{recall}.')"
      ],
      "metadata": {
        "colab": {
          "base_uri": "https://localhost:8080/",
          "height": 224
        },
        "id": "vi3Uwyx7A-6M",
        "outputId": "fd84c802-4c34-4c3f-ebe8-232858296f7b"
      },
      "execution_count": 25,
      "outputs": [
        {
          "output_type": "display_data",
          "data": {
            "image/png": "[encoded data removed]",
            "text/plain": [
              "<Figure size 180x180 with 1 Axes>"
            ]
          },
          "metadata": {
            "needs_background": "light"
          }
        },
        {
          "output_type": "stream",
          "name": "stdout",
          "text": [
            "Precision：0.7976391231028668.\n",
            "Recall：0.9536290322580645.\n"
          ]
        }
      ]
    },
    {
      "cell_type": "code",
      "source": [
        ""
      ],
      "metadata": {
        "id": "E6VFmhPACXU-"
      },
      "execution_count": null,
      "outputs": []
    }
  ]
}